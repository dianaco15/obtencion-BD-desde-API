{
 "cells": [
  {
   "cell_type": "code",
   "execution_count": 1,
   "id": "ea38fcc2",
   "metadata": {},
   "outputs": [
    {
     "name": "stdout",
     "output_type": "stream",
     "text": [
      "Datos vacíos para liga 262 en temporada 2024, omitiendo...\n",
      "Proceso completado.\n"
     ]
    }
   ],
   "source": [
    "import requests\n",
    "import json\n",
    "import os\n",
    "\n",
    "# Lista de ligas y temporadas a consultar \n",
    "ligas = [1, 8, 2, 22, 39,140, 135, 262,253,128,78]   \n",
    "#ligas = [262]\n",
    "temporadas = [2024]  # Puedes agregar más años de temporada\n",
    "\n",
    "\n",
    "# Configuración de la API\n",
    "headers = {\n",
    "    'x-rapidapi-key': '0ca96789d6mshda4e3b9ef6dd673p13ae8ejsn1051cdd724e9',\n",
    "    'x-rapidapi-host': 'api-football-v1.p.rapidapi.com'\n",
    "}\n",
    "\n",
    "# Nombre del archivo en el directorio local\n",
    "filename = \"fixtures_global.json\"\n",
    "current_directory = os.getcwd()\n",
    "file_path = os.path.join(current_directory, filename)\n",
    "\n",
    "# Cargar el archivo existente si ya está presente\n",
    "if os.path.exists(file_path):\n",
    "    with open(file_path, \"r\") as infile:\n",
    "        json_global = json.load(infile)\n",
    "else:\n",
    "    json_global = {}\n",
    "\n",
    "# Iterar sobre cada combinación de liga y temporada\n",
    "for liga in ligas:\n",
    "    for temporada in temporadas:\n",
    "        key = f\"{liga}_{temporada}\"\n",
    "        \n",
    "        # Verificar si ya existe en el archivo local\n",
    "        if key in json_global:\n",
    "            print(f\"Datos ya existentes para liga {liga} en temporada {temporada}, omitiendo...\")\n",
    "            continue\n",
    "        \n",
    "        # Construir la URL con los parámetros actuales\n",
    "        url = f\"https://api-football-v1.p.rapidapi.com/v3/fixtures?league={liga}&season={temporada}\"\n",
    "        \n",
    "        # Hacer la solicitud a la API\n",
    "        response = requests.get(url, headers=headers)\n",
    "        \n",
    "        # Convertir la respuesta a JSON\n",
    "        datos = response.json()\n",
    "        \n",
    "        # Verificar si la respuesta está vacía y saltar si es el caso\n",
    "        if datos.get(\"response\"):\n",
    "            # Guardar los datos en el diccionario global\n",
    "            json_global[key] = datos\n",
    "            \n",
    "            # Preparar los datos para ser enviados a la API como un registro individual\n",
    "            registro = {\n",
    "                \"liga_season\": key,\n",
    "                \"data\": datos\n",
    "            }\n",
    "            \n",
    "            # Enviar el registro a tu API local\n",
    "            local_api_url = 'http://localhost:3000/api/fixturesv2.0/'\n",
    "            response = requests.post(local_api_url, json=registro)\n",
    "            \n",
    "            if response.status_code == 200:\n",
    "                print(f\"Datos para {key} enviados exitosamente a la API local.\")\n",
    "            else:\n",
    "                print(f\"Error al enviar datos para {key} a la API local: {response.status_code}\")\n",
    "            \n",
    "            # Guardar el JSON individual en un archivo en el directorio actual\n",
    "            #file_name = f\"fixtures_{key}.json\"\n",
    "            #file_path = os.path.join(current_directory, file_name)\n",
    "            #with open(file_path, \"w\") as outfile:\n",
    "#                json.dump(registro, outfile, indent=4)\n",
    "\n",
    "          #  print(f\"JSON guardado como {file_name} en {file_path}\")\n",
    "        else:\n",
    "            print(f\"Datos vacíos para liga {liga} en temporada {temporada}, omitiendo...\")\n",
    "\n",
    "print(\"Proceso completado.\")"
   ]
  },
  {
   "cell_type": "code",
   "execution_count": null,
   "id": "2a5759f8",
   "metadata": {},
   "outputs": [],
   "source": []
  }
 ],
 "metadata": {
  "kernelspec": {
   "display_name": "Python 3 (ipykernel)",
   "language": "python",
   "name": "python3"
  },
  "language_info": {
   "codemirror_mode": {
    "name": "ipython",
    "version": 3
   },
   "file_extension": ".py",
   "mimetype": "text/x-python",
   "name": "python",
   "nbconvert_exporter": "python",
   "pygments_lexer": "ipython3",
   "version": "3.9.12"
  }
 },
 "nbformat": 4,
 "nbformat_minor": 5
}
