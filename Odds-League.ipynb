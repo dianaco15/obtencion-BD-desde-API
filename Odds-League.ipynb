{
 "cells": [
  {
   "cell_type": "code",
   "execution_count": 20,
   "id": "296eaa4d",
   "metadata": {},
   "outputs": [
    {
     "name": "stdout",
     "output_type": "stream",
     "text": [
      "Datos guardados en 'odds_ligamx.json'\n",
      "Datos enviados exitosamente para odds a la API.\n"
     ]
    }
   ],
   "source": [
    "import requests\n",
    "import json\n",
    "import os\n",
    "\n",
    "# Paso 1: Realizar la solicitud GET a la API\n",
    "url = \"https://api-football-v1.p.rapidapi.com/v3/odds?league=2&season=2024\"\n",
    "headers = {\n",
    "    'x-rapidapi-key': '0ca96789d6mshda4e3b9ef6dd673p13ae8ejsn1051cdd724e9',\n",
    "    'x-rapidapi-host': 'api-football-v1.p.rapidapi.com'\n",
    "}\n",
    "\n",
    "# URL de la API donde se enviarán los datos\n",
    "post_url = 'http://localhost:3000/api/odds-ligamx/'\n",
    "\n",
    "# Hacer la solicitud GET\n",
    "response = requests.get(url, headers=headers)\n",
    "\n",
    "# Verificar si la solicitud GET fue exitosa\n",
    "if response.status_code == 200:\n",
    "    data = response.json()\n",
    "    \n",
    "    # Guardar todas las respuestas en un solo archivo JSON\n",
    "    with open('/Users/dianaco/API FUTBOL general/Odds-season-league/odds_ligamx.json', 'w') as outfile:\n",
    "        json.dump(data, outfile, indent=4)\n",
    "\n",
    "    print(\"Datos guardados en 'odds_ligamx.json'\")\n",
    "\n",
    "    # Enviar los datos a la API especificada\n",
    "    post_response = requests.post(post_url, json=data)\n",
    "    \n",
    "    # Verificar si la solicitud POST fue exitosa\n",
    "    if post_response.status_code == 200:  # 201 para creación exitosa\n",
    "        print(f\"Datos enviados exitosamente para odds a la API.\")\n",
    "    else:\n",
    "        print(f\"Error al enviar datos para odds a la API: {post_response.status_code} - {post_response.text}\")\n",
    "else:\n",
    "    print(f\"Error al obtener datos de la API: {response.status_code} - {response.text}\")\n"
   ]
  },
  {
   "cell_type": "code",
   "execution_count": null,
   "id": "c9aedc3f",
   "metadata": {},
   "outputs": [],
   "source": []
  },
  {
   "cell_type": "code",
   "execution_count": null,
   "id": "06afa52e",
   "metadata": {},
   "outputs": [],
   "source": []
  }
 ],
 "metadata": {
  "kernelspec": {
   "display_name": "Python 3 (ipykernel)",
   "language": "python",
   "name": "python3"
  },
  "language_info": {
   "codemirror_mode": {
    "name": "ipython",
    "version": 3
   },
   "file_extension": ".py",
   "mimetype": "text/x-python",
   "name": "python",
   "nbconvert_exporter": "python",
   "pygments_lexer": "ipython3",
   "version": "3.9.12"
  }
 },
 "nbformat": 4,
 "nbformat_minor": 5
}
